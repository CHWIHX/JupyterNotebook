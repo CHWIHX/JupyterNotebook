{
 "cells": [
  {
   "cell_type": "code",
   "execution_count": null,
   "id": "e87a1491-276c-4d9d-b267-1631366e4ba9",
   "metadata": {},
   "outputs": [],
   "source": [
    "import logging\n",
    "import azure.functions as func\n",
    "import azure.storage.blob as blob\n",
    "import csv\n",
    " \n",
    "def main(myblob: func.InputStream):\n",
    "    try:\n",
    "        # Read the CSV content from the input stream\n",
    "        csv_content = myblob.read().decode('utf-8')\n",
    " \n",
    "        # Parse the CSV data\n",
    "        csv_reader = csv.reader(csv_content.splitlines())\n",
    "        for row in csv_reader:\n",
    "            logging.info(f\"Name: {row[0]}, Email: {row[1]}\")\n",
    " \n",
    "        logging.info(\"CSV file processed successfully.\")\n",
    "    except Exception as e:\n",
    "        logging.error(f\"Error processing CSV file: {e}\")\n",
    " \n",
    " "
   ]
  }
 ],
 "metadata": {
  "kernelspec": {
   "display_name": "Python FirstConda",
   "language": "python",
   "name": "firstconda"
  },
  "language_info": {
   "codemirror_mode": {
    "name": "ipython",
    "version": 3
   },
   "file_extension": ".py",
   "mimetype": "text/x-python",
   "name": "python",
   "nbconvert_exporter": "python",
   "pygments_lexer": "ipython3",
   "version": "3.12.2"
  }
 },
 "nbformat": 4,
 "nbformat_minor": 5
}
